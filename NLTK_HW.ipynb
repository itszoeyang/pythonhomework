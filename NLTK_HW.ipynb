{
 "cells": [
  {
   "cell_type": "markdown",
   "metadata": {},
   "source": [
    "# Trump Speech Analysis"
   ]
  },
  {
   "cell_type": "markdown",
   "metadata": {},
   "source": [
    "@ Zoe Yang PSC290: Python\n",
    "\n"
   ]
  },
  {
   "cell_type": "code",
   "execution_count": 44,
   "metadata": {
    "collapsed": false
   },
   "outputs": [
    {
     "name": "stdout",
     "output_type": "stream",
     "text": [
      "[nltk_data] Downloading package stopwords to /Users/Z/nltk_data...\n",
      "[nltk_data]   Package stopwords is already up-to-date!\n"
     ]
    }
   ],
   "source": [
    "#Import the packages\n",
    "import nltk\n",
    "import pickle\n",
    "\n",
    "\n",
    "from nltk.classify import NaiveBayesClassifier\n",
    "from nltk.corpus import subjectivity\n",
    "from nltk.sentiment import SentimentAnalyzer\n",
    "from nltk.sentiment.util import *\n",
    "\n",
    "import re\n",
    "import pandas as pd\n",
    "import numpy as np\n",
    "import matplotlib.pyplot as plt\n",
    "import seaborn as sns\n",
    "%matplotlib inline\n",
    "\n",
    "nltk.download(\"stopwords\") #Import stopwords and punctuation from NLTK\n",
    "from string import punctuation\n",
    "from nltk.corpus import stopwords\n",
    "from nltk.probability import FreqDist\n"
   ]
  },
  {
   "cell_type": "markdown",
   "metadata": {},
   "source": [
    "# Import the files"
   ]
  },
  {
   "cell_type": "markdown",
   "metadata": {},
   "source": [
    "First, let's create corpus from the annotated corpus files from the 2016 presidential candidate debates"
   ]
  },
  {
   "cell_type": "code",
   "execution_count": 32,
   "metadata": {
    "collapsed": false
   },
   "outputs": [],
   "source": [
    "trump_corpus = nltk.corpus.PlaintextCorpusReader('Clinton-Trump-Corpus/Trump/','Trump_.*.txt')"
   ]
  },
  {
   "cell_type": "code",
   "execution_count": 33,
   "metadata": {
    "collapsed": false
   },
   "outputs": [
    {
     "data": {
      "text/plain": [
       "82"
      ]
     },
     "execution_count": 33,
     "metadata": {},
     "output_type": "execute_result"
    }
   ],
   "source": [
    "#check to make sure that they are loaded in. There are 82 files from which it pulls the langage data.\n",
    "len(trump_corpus.fileids())"
   ]
  },
  {
   "cell_type": "markdown",
   "metadata": {},
   "source": [
    "Yay!!! The corpus files have been loaded."
   ]
  },
  {
   "cell_type": "code",
   "execution_count": 34,
   "metadata": {
    "collapsed": true
   },
   "outputs": [],
   "source": [
    "#optional for later comparison: clinton_corpus = nltk.corpus.PlaintextCorpusReader('Clinton-Trump-Corpus/Clinton/','Clinton_.*.txt')"
   ]
  },
  {
   "cell_type": "code",
   "execution_count": 35,
   "metadata": {
    "collapsed": true
   },
   "outputs": [],
   "source": [
    "#check to make sure that they are loaded in\n",
    "#len(clinton_corpus.fileids())"
   ]
  },
  {
   "cell_type": "markdown",
   "metadata": {},
   "source": [
    "# Clean the files\n",
    "\n",
    "Remove extraneous information like <applause>, punctuation, and stop words from the Trump corpus.\n"
   ]
  },
  {
   "cell_type": "code",
   "execution_count": 36,
   "metadata": {
    "collapsed": true
   },
   "outputs": [],
   "source": [
    "#Convert texts into appropriate types\n",
    "trump_raw = trump_corpus.raw()\n",
    "trump_words = trump_corpus.words()\n",
    "trump_text = nltk.Text(trump_words)\n"
   ]
  },
  {
   "cell_type": "code",
   "execution_count": 37,
   "metadata": {
    "collapsed": true
   },
   "outputs": [],
   "source": [
    "def clean_up_data(x):\n",
    "    filtered_for_punctuation = x\n",
    "    filtered_for_punctuation = filtered_for_punctuation.lower() #convert all words to lowercase\n",
    "    filtered_for_punctuation = re.sub(\"[\\(\\[].*?[\\)\\]]\", \"\", filtered_for_punctuation) #remove parentheses\n",
    "    filtered_for_punctuation = re.sub(\"[\\<\\[].*?[\\>\\]]\", \"\", filtered_for_punctuation) #remove carrots    for punc in punctuation:\n",
    "    for punc in punctuation:\n",
    "        filtered_for_punctuation = filtered_for_punctuation.replace(punc, \"\") #remove punctuation\n",
    "    filtered_for_punctuation = nltk.wordpunct_tokenize(filtered_for_punctuation) #tokenize text\n",
    "    filtered_for_punctuation = [word for word in filtered_for_punctuation if word.lower() not in stopwords.words('english')] #remove stopwords\n",
    "        #note that stopwords include words like very and against \n",
    "    return filtered_for_punctuation"
   ]
  },
  {
   "cell_type": "code",
   "execution_count": 150,
   "metadata": {
    "collapsed": false
   },
   "outputs": [],
   "source": [
    "clean_trump = clean_up_data(trump_raw)\n",
    "clean_trump_text = nltk.Text(clean_trump)"
   ]
  },
  {
   "cell_type": "markdown",
   "metadata": {},
   "source": [
    "## Concordance\n",
    "Information about the text surrounding certain topics.\n",
    "\n",
    "How often does Trump reference the below topics, and what is the context around them?"
   ]
  },
  {
   "cell_type": "code",
   "execution_count": 128,
   "metadata": {
    "collapsed": false
   },
   "outputs": [
    {
     "name": "stdout",
     "output_type": "stream",
     "text": [
      "Displaying 10 of 51 matches:\n",
      "w come especially track record violence world hell need well build saf\n",
      "nnot condemn hatred oppression violence radical islam lacks moral clar\n",
      "es iraq experiencing reduction violence group would become call isis c\n",
      "ology provides breeding ground violence terrorism grow breeding ground\n",
      " new years seen reports sexual violence assault far greater anybody kn\n",
      "cult difficult difficult times violence riots destruction taken place \n",
      "g lawless conduct anyone crime violence attack poor never accepted tru\n",
      "ifficult times difficult chaos violence streets assault law enforcemen\n",
      "ens im elected president chaos violence end end quickly every single c\n",
      "ng parents whove lost children violence spilling across border parents\n"
     ]
    }
   ],
   "source": [
    "clean_trump_text.concordance(\"violence\", 70, lines = 10)\n"
   ]
  },
  {
   "cell_type": "code",
   "execution_count": 127,
   "metadata": {
    "collapsed": false
   },
   "outputs": [
    {
     "name": "stdout",
     "output_type": "stream",
     "text": [
      "dont people horrible happen thats happened place country evil rates\n",
      "soaring homicide harassment\n"
     ]
    }
   ],
   "source": [
    "clean_trump_text.similar(\"violence\")"
   ]
  },
  {
   "cell_type": "code",
   "execution_count": 126,
   "metadata": {
    "collapsed": false
   },
   "outputs": [
    {
     "name": "stdout",
     "output_type": "stream",
     "text": [
      "people know theyre going win country think im folks right thats\n",
      "countries like happen said say many dont things youre\n",
      "None\n"
     ]
    }
   ],
   "source": [
    "print(clean_trump_text.similar(\"Mexico\"))"
   ]
  },
  {
   "cell_type": "code",
   "execution_count": 125,
   "metadata": {
    "collapsed": false
   },
   "outputs": [
    {
     "name": "stdout",
     "output_type": "stream",
     "text": [
      "bill clinton know shes people said country look believe dont see\n",
      "things folks youre trump great thats also say cant\n",
      "None\n"
     ]
    }
   ],
   "source": [
    "print(clean_trump_text.similar(\"Hillary\"))"
   ]
  },
  {
   "cell_type": "code",
   "execution_count": 198,
   "metadata": {
    "collapsed": false
   },
   "outputs": [
    {
     "name": "stdout",
     "output_type": "stream",
     "text": [
      "people companies going country back money work right theyre think job\n",
      "folks look good dont know great want education pennsylvania\n",
      "None\n"
     ]
    }
   ],
   "source": [
    "print(clean_trump_text.similar(\"jobs\"))"
   ]
  },
  {
   "cell_type": "markdown",
   "metadata": {},
   "source": [
    "## Word Frequency"
   ]
  },
  {
   "cell_type": "markdown",
   "metadata": {},
   "source": [
    ">What are the top 25 most frequently words in Trump's speeches/debates pre-election?"
   ]
  },
  {
   "cell_type": "code",
   "execution_count": 151,
   "metadata": {
    "collapsed": false
   },
   "outputs": [
    {
     "data": {
      "text/plain": [
       "[('going', 5186),\n",
       " ('people', 3155),\n",
       " ('know', 2284),\n",
       " ('country', 1848),\n",
       " ('dont', 1772),\n",
       " ('great', 1729),\n",
       " ('said', 1586),\n",
       " ('right', 1515),\n",
       " ('one', 1504),\n",
       " ('theyre', 1462),\n",
       " ('hillary', 1460),\n",
       " ('get', 1381),\n",
       " ('want', 1360),\n",
       " ('like', 1344),\n",
       " ('thats', 1265),\n",
       " ('jobs', 1253),\n",
       " ('im', 1160),\n",
       " ('clinton', 1142),\n",
       " ('think', 1070),\n",
       " ('say', 1070),\n",
       " ('thank', 1062),\n",
       " ('back', 1007),\n",
       " ('never', 924),\n",
       " ('well', 917),\n",
       " ('make', 913)]"
      ]
     },
     "execution_count": 151,
     "metadata": {},
     "output_type": "execute_result"
    }
   ],
   "source": [
    "TrumpFreqDist = FreqDist(clean_trump)\n",
    "TrumpTop25 = TrumpFreqDist.most_common(25)\n",
    "TrumpTop25"
   ]
  },
  {
   "cell_type": "code",
   "execution_count": 197,
   "metadata": {
    "collapsed": false
   },
   "outputs": [
    {
     "data": {
      "image/png": "[encoded data removed]",
      "text/plain": [
       "<matplotlib.figure.Figure at 0x118fb75c0>"
      ]
     },
     "metadata": {},
     "output_type": "display_data"
    }
   ],
   "source": [
    "FreqDist(clean_trump).plot(25, cumulative=False)"
   ]
  },
  {
   "cell_type": "markdown",
   "metadata": {},
   "source": [
    ">## Gratefulness words\n",
    "\n"
   ]
  },
  {
   "cell_type": "markdown",
   "metadata": {},
   "source": [
    "How does trump use words indicating gratefulness or happiness?\n",
    "\n",
    "Trump says thank 1062 times, happy 121 times, grateful 3 times, welcome 3 times. See below for words used similarly to these as well."
   ]
  },
  {
   "cell_type": "code",
   "execution_count": 164,
   "metadata": {
    "collapsed": false
   },
   "outputs": [
    {
     "data": {
      "text/plain": [
       "1062"
      ]
     },
     "execution_count": 164,
     "metadata": {},
     "output_type": "execute_result"
    }
   ],
   "source": [
    "TrumpFreqDist['thank'] "
   ]
  },
  {
   "cell_type": "code",
   "execution_count": 165,
   "metadata": {
    "collapsed": false
   },
   "outputs": [
    {
     "name": "stdout",
     "output_type": "stream",
     "text": [
      "thank much really days know im youre boy everybody shes trade november\n"
     ]
    }
   ],
   "source": [
    "clean_trump_text.similar('thanks')"
   ]
  },
  {
   "cell_type": "code",
   "execution_count": 166,
   "metadata": {
    "collapsed": false
   },
   "outputs": [
    {
     "name": "stdout",
     "output_type": "stream",
     "text": [
      "going people think happen well make country dont know win tough way\n",
      "say saying gone jobs gonna good believe right\n"
     ]
    }
   ],
   "source": [
    "clean_trump_text.similar('happy')"
   ]
  },
  {
   "cell_type": "code",
   "execution_count": 167,
   "metadata": {
    "collapsed": false
   },
   "outputs": [
    {
     "data": {
      "text/plain": [
       "121"
      ]
     },
     "execution_count": 167,
     "metadata": {},
     "output_type": "execute_result"
    }
   ],
   "source": [
    "TrumpFreqDist['happy'] "
   ]
  },
  {
   "cell_type": "code",
   "execution_count": 168,
   "metadata": {
    "collapsed": false
   },
   "outputs": [
    {
     "name": "stdout",
     "output_type": "stream",
     "text": [
      "going people think happen well make country dont know win tough way\n",
      "say saying gone jobs gonna good believe right\n"
     ]
    }
   ],
   "source": [
    "clean_trump_text.similar('happy')"
   ]
  },
  {
   "cell_type": "code",
   "execution_count": 169,
   "metadata": {
    "collapsed": false
   },
   "outputs": [
    {
     "data": {
      "text/plain": [
       "3"
      ]
     },
     "execution_count": 169,
     "metadata": {},
     "output_type": "execute_result"
    }
   ],
   "source": [
    "TrumpFreqDist['grateful'] "
   ]
  },
  {
   "cell_type": "code",
   "execution_count": 158,
   "metadata": {
    "collapsed": false
   },
   "outputs": [
    {
     "name": "stdout",
     "output_type": "stream",
     "text": [
      "thank much folks everybody lot love\n"
     ]
    }
   ],
   "source": [
    "clean_trump_text.similar('grateful')"
   ]
  },
  {
   "cell_type": "code",
   "execution_count": 159,
   "metadata": {
    "collapsed": false
   },
   "outputs": [
    {
     "data": {
      "text/plain": [
       "3"
      ]
     },
     "execution_count": 159,
     "metadata": {},
     "output_type": "execute_result"
    }
   ],
   "source": [
    "#how unwelcoming!\n",
    "TrumpFreqDist['welcome'] "
   ]
  },
  {
   "cell_type": "code",
   "execution_count": 160,
   "metadata": {
    "collapsed": false
   },
   "outputs": [
    {
     "name": "stdout",
     "output_type": "stream",
     "text": [
      "leave goes across\n"
     ]
    }
   ],
   "source": [
    "clean_trump_text.similar('welcome')"
   ]
  },
  {
   "cell_type": "code",
   "execution_count": 161,
   "metadata": {
    "collapsed": false
   },
   "outputs": [
    {
     "name": "stdout",
     "output_type": "stream",
     "text": [
      "Displaying 3 of 3 matches:\n",
      "nk commanderinchief big john really welcome fantastic time walked fantastic als\n",
      "n americans people different faiths welcome join great country promote american\n",
      "implify taxes going make businesses welcome country going reduce taxes middlein\n"
     ]
    }
   ],
   "source": [
    "clean_trump_text.concordance('welcome')"
   ]
  },
  {
   "cell_type": "markdown",
   "metadata": {},
   "source": [
    ">## Narcissism? Number of times he used I, me, myself, or references Trump"
   ]
  },
  {
   "cell_type": "code",
   "execution_count": 171,
   "metadata": {
    "collapsed": false
   },
   "outputs": [
    {
     "data": {
      "text/plain": [
       "1344"
      ]
     },
     "execution_count": 171,
     "metadata": {},
     "output_type": "execute_result"
    }
   ],
   "source": [
    "TrumpFreqDist_nf = FreqDist(trump_text) #uses version with stop words, not cleaned.\n",
    "TrumpFreqDist_nf['me']"
   ]
  },
  {
   "cell_type": "code",
   "execution_count": 172,
   "metadata": {
    "collapsed": false
   },
   "outputs": [
    {
     "data": {
      "text/plain": [
       "10029"
      ]
     },
     "execution_count": 172,
     "metadata": {},
     "output_type": "execute_result"
    }
   ],
   "source": [
    "TrumpFreqDist_nf['I']"
   ]
  },
  {
   "cell_type": "code",
   "execution_count": 173,
   "metadata": {
    "collapsed": false
   },
   "outputs": [
    {
     "data": {
      "text/plain": [
       "55"
      ]
     },
     "execution_count": 173,
     "metadata": {},
     "output_type": "execute_result"
    }
   ],
   "source": [
    "TrumpFreqDist_nf['myself']"
   ]
  },
  {
   "cell_type": "code",
   "execution_count": 174,
   "metadata": {
    "collapsed": false
   },
   "outputs": [
    {
     "data": {
      "text/plain": [
       "747"
      ]
     },
     "execution_count": 174,
     "metadata": {},
     "output_type": "execute_result"
    }
   ],
   "source": [
    "TrumpFreqDist_nf['my']"
   ]
  },
  {
   "cell_type": "code",
   "execution_count": 187,
   "metadata": {
    "collapsed": false
   },
   "outputs": [
    {
     "data": {
      "text/plain": [
       "655"
      ]
     },
     "execution_count": 187,
     "metadata": {},
     "output_type": "execute_result"
    }
   ],
   "source": [
    "TrumpFreqDist['trump']"
   ]
  },
  {
   "cell_type": "markdown",
   "metadata": {},
   "source": [
    ">## Trumpisms\n",
    "This section is HYUUUUUGE."
   ]
  },
  {
   "cell_type": "code",
   "execution_count": 108,
   "metadata": {
    "collapsed": false,
    "scrolled": false
   },
   "outputs": [],
   "source": [
    "#def unusual_words(text):\n",
    "#    text_vocab = set(w.lower() for w in text if w.isalpha())\n",
    "#    english_vocab = set(w.lower() for w in nltk.corpus.words.words())\n",
    "#   unusual = text_vocab.difference(english_vocab) \n",
    "#    return unusual\n",
    "#unusual_words(clean_trump)"
   ]
  },
  {
   "cell_type": "markdown",
   "metadata": {},
   "source": [
    "**Unique Words**"
   ]
  },
  {
   "cell_type": "code",
   "execution_count": 102,
   "metadata": {
    "collapsed": false
   },
   "outputs": [
    {
     "data": {
      "text/plain": [
       "{'enjoyed',\n",
       " 'landings',\n",
       " 'dead',\n",
       " 'bully',\n",
       " 'leannas',\n",
       " 'certification',\n",
       " 'wishes',\n",
       " 'killer',\n",
       " 'toledo',\n",
       " 'shared',\n",
       " 'harolds',\n",
       " 'obmacare',\n",
       " 'devalues',\n",
       " 'outsiders',\n",
       " 'fate',\n",
       " 'secondclass',\n",
       " 'dayton',\n",
       " 'invade',\n",
       " 'terrorist',\n",
       " 'projobs',\n",
       " 'quotes',\n",
       " 'overcomplicated',\n",
       " 'swore',\n",
       " 'ensure',\n",
       " 'comey',\n",
       " 'olander',\n",
       " 'twitter',\n",
       " 'gets',\n",
       " 'foods',\n",
       " 'donna',\n",
       " 'regalia',\n",
       " 'houston',\n",
       " 'nap',\n",
       " 'readiness',\n",
       " 'gained',\n",
       " 'simple',\n",
       " 'nonbelievers',\n",
       " 'cases',\n",
       " 'lover',\n",
       " 'exchanges',\n",
       " 'discredit',\n",
       " 'whacked',\n",
       " 'oldest',\n",
       " 'laugh',\n",
       " 'deficient',\n",
       " 'way',\n",
       " 'economic',\n",
       " 'consistently',\n",
       " 'gq',\n",
       " 'steyer',\n",
       " 'manner',\n",
       " 'pa',\n",
       " 'fundraising',\n",
       " 'dishonest',\n",
       " 'approaches',\n",
       " 'investigating',\n",
       " 'remade',\n",
       " 'medal',\n",
       " 'providing',\n",
       " 'served',\n",
       " 'laborers',\n",
       " 'unsuccessful',\n",
       " 'exploiting',\n",
       " 'drugs',\n",
       " 'manipulation',\n",
       " 'banged',\n",
       " 'drill',\n",
       " 'paying',\n",
       " 'nationally',\n",
       " 'neighborhoods',\n",
       " 'pervert',\n",
       " 'armorplated',\n",
       " 'heads',\n",
       " 'critic',\n",
       " 'house',\n",
       " 'charity',\n",
       " 'brexits',\n",
       " 'perform',\n",
       " 'investments',\n",
       " 'antienergy',\n",
       " 'activated',\n",
       " 'genius',\n",
       " 'pledge',\n",
       " 'laughing',\n",
       " 'blacks',\n",
       " 'nascar',\n",
       " 'vets',\n",
       " 'unbelievably',\n",
       " 'purdue',\n",
       " 'happen',\n",
       " 'howie',\n",
       " 'caught',\n",
       " 'defeat',\n",
       " 'repression',\n",
       " 'doors',\n",
       " 'submitted',\n",
       " 'description',\n",
       " 'socialist',\n",
       " 'entries',\n",
       " 'achieve',\n",
       " 'lines',\n",
       " 'periodically',\n",
       " 'surplus',\n",
       " 'alliances',\n",
       " 'hike',\n",
       " 'stood',\n",
       " 'foster',\n",
       " 'sighed',\n",
       " 'crucially',\n",
       " 'enjoying',\n",
       " 'noble',\n",
       " 'expect',\n",
       " 'envy',\n",
       " 'numbered',\n",
       " 'trusted',\n",
       " 'rely',\n",
       " 'tragedy',\n",
       " 'adult',\n",
       " 'imposing',\n",
       " 'wrote',\n",
       " 'desk',\n",
       " 'howd',\n",
       " 'daily',\n",
       " 'send',\n",
       " 'jews',\n",
       " 'secular',\n",
       " 'gasping',\n",
       " 'roof',\n",
       " 'takes',\n",
       " 'talking',\n",
       " 'discussions',\n",
       " 'cap',\n",
       " 'favorites',\n",
       " 'champ',\n",
       " 'restricted',\n",
       " 'golf',\n",
       " 'general',\n",
       " 'newspaper',\n",
       " 'careful',\n",
       " 'boxing',\n",
       " 'newman',\n",
       " 'islam',\n",
       " 'worthy',\n",
       " 'assuming',\n",
       " 'behave',\n",
       " 'asterisk',\n",
       " 'grip',\n",
       " 'uncompromising',\n",
       " 'liberate',\n",
       " 'contributor',\n",
       " 'hoses',\n",
       " 'brunt',\n",
       " 'giving',\n",
       " 'sheet',\n",
       " 'fabrication',\n",
       " 'businessmen',\n",
       " 'livings',\n",
       " 'addictive',\n",
       " 'lets',\n",
       " 'supported',\n",
       " 'steak',\n",
       " 'crossroads',\n",
       " 'wonder',\n",
       " 'tycoons',\n",
       " 'rid',\n",
       " 'jail',\n",
       " 'tight',\n",
       " 'facebook',\n",
       " 'fabulous',\n",
       " 'zero',\n",
       " 'requested',\n",
       " 'queens',\n",
       " 'caribbean',\n",
       " 'prophet',\n",
       " 'wright',\n",
       " 'carrier',\n",
       " 'confines',\n",
       " 'rushing',\n",
       " 'failures',\n",
       " 'cash',\n",
       " 'conference',\n",
       " 'burdens',\n",
       " 'checked',\n",
       " 'displayed',\n",
       " 'embraces',\n",
       " 'waitresses',\n",
       " 'unchallenged',\n",
       " 'logistical',\n",
       " 'beholden',\n",
       " 'adults',\n",
       " 'youeverybody',\n",
       " 'analysts',\n",
       " 'excellent',\n",
       " 'immorality',\n",
       " 'hospitality',\n",
       " 'factory',\n",
       " 'saga',\n",
       " 'attendance',\n",
       " 'criminals',\n",
       " 'stack',\n",
       " 'listen',\n",
       " 'compliance',\n",
       " 'shields',\n",
       " 'everify',\n",
       " 'weekend',\n",
       " 'forcing',\n",
       " 'byebye',\n",
       " 'carriers',\n",
       " 'professional',\n",
       " 'defending',\n",
       " 'vats',\n",
       " 'voices',\n",
       " 'forms',\n",
       " 'eliminated',\n",
       " 'investing',\n",
       " 'candy',\n",
       " 'imminent',\n",
       " 'staggering',\n",
       " 'theyve',\n",
       " 'tragically',\n",
       " 'hired',\n",
       " 'reinstitute',\n",
       " 'spot',\n",
       " 'revisit',\n",
       " 'resting',\n",
       " 'wounded',\n",
       " 'pittsburgh',\n",
       " 'historical',\n",
       " 'piece',\n",
       " 'indictments',\n",
       " 'incision',\n",
       " 'rewrite',\n",
       " 'creating',\n",
       " 'barry',\n",
       " 'leveraged',\n",
       " 'big',\n",
       " 'pinhole',\n",
       " 'intrusive',\n",
       " 'national',\n",
       " 'roll',\n",
       " 'compete',\n",
       " 'world',\n",
       " 'raving',\n",
       " 'session',\n",
       " 'proposing',\n",
       " 'revival',\n",
       " 'flying',\n",
       " 'electiondriven',\n",
       " 'surrender',\n",
       " 'advocacy',\n",
       " 'participate',\n",
       " 'nothings',\n",
       " 'limb',\n",
       " 'infrastructures',\n",
       " 'alleged',\n",
       " 'heather',\n",
       " 'jumping',\n",
       " 'exemption',\n",
       " 'heroin',\n",
       " 'rates',\n",
       " 'detainers',\n",
       " 'shy',\n",
       " 'type',\n",
       " 'sympathizers',\n",
       " 'exciting',\n",
       " 'locally',\n",
       " 'vigilant',\n",
       " 'satirical',\n",
       " 'kelly',\n",
       " 'cover',\n",
       " 'bold',\n",
       " 'businesspeople',\n",
       " 'foot',\n",
       " 'franklin',\n",
       " 'floods',\n",
       " 'loosing',\n",
       " 'nope',\n",
       " 'fortyseven',\n",
       " 'las',\n",
       " 'signal',\n",
       " 'islamic',\n",
       " 'hikes',\n",
       " 'assume',\n",
       " 'lawabiding',\n",
       " 'evolve',\n",
       " 'exaggerating',\n",
       " 'whereas',\n",
       " 'sponsored',\n",
       " 'recognized',\n",
       " 'applied',\n",
       " 'sterling',\n",
       " 'tunnels',\n",
       " 'huge',\n",
       " 'complexity',\n",
       " 'risque',\n",
       " 'teaching',\n",
       " 'irrevocably',\n",
       " 'team',\n",
       " 'dropped',\n",
       " 'fireside',\n",
       " 'tweeting',\n",
       " 'plotting',\n",
       " 'steam',\n",
       " 'fire',\n",
       " 'rose',\n",
       " 'hunting',\n",
       " 'index',\n",
       " 'oriented',\n",
       " 'harvard',\n",
       " 'nowhere',\n",
       " 'encounter',\n",
       " 'sense',\n",
       " 'revived',\n",
       " 'ferry',\n",
       " 'slowing',\n",
       " 'flowing',\n",
       " 'sununu',\n",
       " 'ninetyfive',\n",
       " 'assist',\n",
       " 'rebate',\n",
       " 'feelings',\n",
       " 'enterprise',\n",
       " 'watched',\n",
       " 'cheaper',\n",
       " 'rejected',\n",
       " 'nightly',\n",
       " 'majority',\n",
       " 'assisted',\n",
       " 'ribbon',\n",
       " 'interventions',\n",
       " 'town',\n",
       " 'severely',\n",
       " 'responsible',\n",
       " 'lot',\n",
       " 'lord',\n",
       " 'catchandrelease',\n",
       " 'danny',\n",
       " 'mooney',\n",
       " 'wealthier',\n",
       " 'va',\n",
       " 'childenriching',\n",
       " 'file',\n",
       " 'periods',\n",
       " 'exaggerate',\n",
       " 'foreign',\n",
       " 'shes',\n",
       " 'cost',\n",
       " 'fortunately',\n",
       " 'prescription',\n",
       " 'hearings',\n",
       " 'goods',\n",
       " 'eyes',\n",
       " 'governors',\n",
       " 'receiving',\n",
       " 'disposal',\n",
       " 'tragic',\n",
       " 'isolation',\n",
       " 'draw',\n",
       " 'reuters',\n",
       " 'nonsense',\n",
       " 'weeks',\n",
       " 'discovery',\n",
       " 'ooh',\n",
       " 'involves',\n",
       " 'next',\n",
       " 'rebel',\n",
       " 'shouting',\n",
       " 'jimmy',\n",
       " 'wages',\n",
       " 'assurance',\n",
       " 'experts',\n",
       " 'damage',\n",
       " 'picking',\n",
       " 'capture',\n",
       " 'affair',\n",
       " 'whove',\n",
       " 'present',\n",
       " 'stability',\n",
       " 'tone',\n",
       " 'listened',\n",
       " 'declined',\n",
       " 'sets',\n",
       " 'stops',\n",
       " 'cop',\n",
       " 'poisoning',\n",
       " 'receptionist',\n",
       " 'mays',\n",
       " 'add',\n",
       " 'raged',\n",
       " 'apartments',\n",
       " 'em',\n",
       " 'epidemic',\n",
       " 'cleanliness',\n",
       " 'equality',\n",
       " 'puts',\n",
       " 'sandvik',\n",
       " 'unbelievable',\n",
       " 'sessions',\n",
       " 'amnericanism',\n",
       " 'sport',\n",
       " 'coordination',\n",
       " 'require',\n",
       " 'dangerous',\n",
       " 'sid',\n",
       " 'civilians',\n",
       " 'everybodys',\n",
       " 'speak',\n",
       " 'connecticut',\n",
       " 'countryd',\n",
       " 'bedford',\n",
       " 'tall',\n",
       " 'barbaric',\n",
       " 'student',\n",
       " 'treasure',\n",
       " 'deroy',\n",
       " 'drove',\n",
       " 'surveillance',\n",
       " 'shaw',\n",
       " 'policyfree',\n",
       " 'bankruptcy',\n",
       " 'piano',\n",
       " 'dreams',\n",
       " 'purpose',\n",
       " 'opposite',\n",
       " 'wasteland',\n",
       " 'grossly',\n",
       " 'percentage',\n",
       " 'ads',\n",
       " 'arrested',\n",
       " 'appoint',\n",
       " 'posts',\n",
       " 'waded',\n",
       " 'sleeps',\n",
       " 'afford',\n",
       " 'extraordinarily',\n",
       " 'arkansas',\n",
       " 'dwellers',\n",
       " 'idea',\n",
       " 'objects',\n",
       " 'upstate',\n",
       " 'blocks',\n",
       " 'fireman',\n",
       " 'chapter',\n",
       " 'contrast',\n",
       " 'benefited',\n",
       " 'islamophobe',\n",
       " 'opm',\n",
       " 'digits',\n",
       " 'magnet',\n",
       " 'pitching',\n",
       " 'dredged',\n",
       " 'maddow',\n",
       " 'forty',\n",
       " 'deep',\n",
       " 'antiamerican',\n",
       " 'violated',\n",
       " 'loser',\n",
       " 'uplifting',\n",
       " 'suffering',\n",
       " 'polls',\n",
       " 'binds',\n",
       " 'turmoil',\n",
       " 'strange',\n",
       " 'madam',\n",
       " 'arrival',\n",
       " 'guy',\n",
       " 'fiance',\n",
       " 'backgrounds',\n",
       " 'smiled',\n",
       " 'russias',\n",
       " 'lighting',\n",
       " 'burning',\n",
       " 'destruction',\n",
       " 'scott',\n",
       " 'medicaid',\n",
       " 'dismissed',\n",
       " 'knock',\n",
       " 'joke',\n",
       " 'programs',\n",
       " 'military',\n",
       " 'majors',\n",
       " 'courtney',\n",
       " 'connected',\n",
       " 'forbid',\n",
       " 'fraudulent',\n",
       " 'whitewashed',\n",
       " 'maid',\n",
       " 'applause',\n",
       " 'effect',\n",
       " 'rating',\n",
       " 'noncash',\n",
       " 'faithful',\n",
       " 'believer',\n",
       " 'forceful',\n",
       " 'belmont',\n",
       " 'gain',\n",
       " 'announced',\n",
       " 'never',\n",
       " 'victory',\n",
       " 'offered',\n",
       " 'offender',\n",
       " 'progrowth',\n",
       " 'section',\n",
       " 'answered',\n",
       " 'log',\n",
       " 'almost',\n",
       " 'sells',\n",
       " 'actively',\n",
       " 'dirty',\n",
       " 'fundraisers',\n",
       " 'scary',\n",
       " 'occurred',\n",
       " 'challenged',\n",
       " 'surrogate',\n",
       " 'singlemother',\n",
       " 'swearing',\n",
       " 'okeechobee',\n",
       " 'collision',\n",
       " 'deplorables',\n",
       " 'blind',\n",
       " 'portion',\n",
       " 'contempt',\n",
       " 'platter',\n",
       " 'magazine',\n",
       " 'relocated',\n",
       " 'holds',\n",
       " 'fed',\n",
       " 'condolences',\n",
       " 'survival',\n",
       " 'babies',\n",
       " 'sexual',\n",
       " 'acreage',\n",
       " 'federalist',\n",
       " 'earthquake',\n",
       " 'mined',\n",
       " 'writers',\n",
       " 'pit',\n",
       " 'warriors',\n",
       " 'pleasure',\n",
       " 'honor',\n",
       " 'discriminates',\n",
       " 'defensive',\n",
       " 'pocahontas',\n",
       " 'automatically',\n",
       " 'disappointed',\n",
       " 'vulnerabilities',\n",
       " 'businessman',\n",
       " 'describing',\n",
       " 'hendricks',\n",
       " 'unthinkable',\n",
       " 'manage',\n",
       " 'chain',\n",
       " 'smith',\n",
       " 'eye',\n",
       " 'university',\n",
       " 'store',\n",
       " 'uphill',\n",
       " 'nah',\n",
       " 'special',\n",
       " 'begins',\n",
       " 'conclude',\n",
       " 'wed',\n",
       " 'streams',\n",
       " 'companies',\n",
       " 'century',\n",
       " 'grown',\n",
       " 'somehow',\n",
       " 'thrive',\n",
       " 'winning',\n",
       " 'dude',\n",
       " 'interview',\n",
       " 'rambunctious',\n",
       " 'crap',\n",
       " 'knees',\n",
       " 'paragraph',\n",
       " 'angulo',\n",
       " 'ready',\n",
       " 'negotiating',\n",
       " 'breakfast',\n",
       " 'nuclear',\n",
       " 'lawyers',\n",
       " 'loopholes',\n",
       " 'cattle',\n",
       " 'crusade',\n",
       " 'guess',\n",
       " 'landed',\n",
       " 'watershed',\n",
       " 'minority',\n",
       " 'signed',\n",
       " 'undergone',\n",
       " 'began',\n",
       " 'veto',\n",
       " 'iranbacked',\n",
       " 'brighter',\n",
       " 'overregulated',\n",
       " 'thirdworldlevel',\n",
       " 'perfectly',\n",
       " 'effectively',\n",
       " 'principle',\n",
       " 'sleaze',\n",
       " 'secret',\n",
       " 'plumber',\n",
       " 'less',\n",
       " 'comply',\n",
       " 'applicants',\n",
       " 'saying',\n",
       " 'findings',\n",
       " 'podium',\n",
       " 'comprehensive',\n",
       " 'validity',\n",
       " 'ruling',\n",
       " 'yearandahalf',\n",
       " 'respectful',\n",
       " 'egypt',\n",
       " 'shattered',\n",
       " 'wire',\n",
       " 'pyramid',\n",
       " 'glimpse',\n",
       " 'thorough',\n",
       " 'bureaucracy',\n",
       " 'earned',\n",
       " 'marshals',\n",
       " 'lots',\n",
       " 'blanket',\n",
       " 'projections',\n",
       " 'father',\n",
       " 'insiders',\n",
       " 'giant',\n",
       " 'cleveland',\n",
       " 'home',\n",
       " 'highranking',\n",
       " 'supplant',\n",
       " 'burdensome',\n",
       " 'surreal',\n",
       " 'ivankas',\n",
       " 'soul',\n",
       " 'hes',\n",
       " 'distract',\n",
       " 'praised',\n",
       " 'sealed',\n",
       " 'clintonbacked',\n",
       " 'canvas',\n",
       " 'climate',\n",
       " 'seldom',\n",
       " 'shady',\n",
       " 'intercept',\n",
       " 'summit',\n",
       " 'onto',\n",
       " 'fastest',\n",
       " 'prosecutor',\n",
       " 'neglected',\n",
       " 'transparency',\n",
       " 'steve',\n",
       " 'hoping',\n",
       " 'terrible',\n",
       " 'immunity',\n",
       " 'robbery',\n",
       " 'wealth',\n",
       " 'criticized',\n",
       " 'nipping',\n",
       " 'communitys',\n",
       " 'wild',\n",
       " 'size',\n",
       " 'renewal',\n",
       " 'equipment',\n",
       " 'wharton',\n",
       " 'black',\n",
       " 'declines',\n",
       " 'firefighters',\n",
       " 'towns',\n",
       " 'grocery',\n",
       " 'perspective',\n",
       " 'rig',\n",
       " 'briefings',\n",
       " 'seventythousand',\n",
       " 'days',\n",
       " 'smack',\n",
       " 'junky',\n",
       " 'governmentwide',\n",
       " 'king',\n",
       " 'jobs',\n",
       " 'easily',\n",
       " 'unsecure',\n",
       " 'falling',\n",
       " 'steelworkers',\n",
       " 'pertains',\n",
       " 'vicious',\n",
       " 'says',\n",
       " 'countries',\n",
       " 'hundreds',\n",
       " 'ice',\n",
       " 'valid',\n",
       " 'brazen',\n",
       " 'cheated',\n",
       " 'thugs',\n",
       " 'democrat',\n",
       " 'cia',\n",
       " 'resonating',\n",
       " 'prison',\n",
       " 'soldier',\n",
       " 'unless',\n",
       " 'missing',\n",
       " 'vim',\n",
       " 'coalition',\n",
       " 'colors',\n",
       " 'got',\n",
       " 'rogue',\n",
       " 'toom',\n",
       " 'ventures',\n",
       " 'nasa',\n",
       " 'stabbing',\n",
       " 'inflow',\n",
       " 'soil',\n",
       " 'losing',\n",
       " 'midway',\n",
       " 'flag',\n",
       " 'numberone',\n",
       " 'fabrications',\n",
       " 'pound',\n",
       " 'woman',\n",
       " 'late',\n",
       " 'revised',\n",
       " 'pivotal',\n",
       " 'senator',\n",
       " 'grab',\n",
       " 'multinational',\n",
       " 'carlisle',\n",
       " 'riding',\n",
       " 'mom',\n",
       " 'sisterinlaw',\n",
       " 'firearmrelated',\n",
       " 'gay',\n",
       " 'inside',\n",
       " 'evils',\n",
       " 'sorts',\n",
       " 'staying',\n",
       " 'row',\n",
       " 'psychologys',\n",
       " 'withdrawing',\n",
       " 'narrative',\n",
       " 'shouldnt',\n",
       " 'felt',\n",
       " 'declared',\n",
       " 'least',\n",
       " 'adding',\n",
       " 'fresh',\n",
       " 'made',\n",
       " 'negligent',\n",
       " 'cane',\n",
       " 'hamas',\n",
       " 'kick',\n",
       " 'politically',\n",
       " 'agents',\n",
       " 'kadzik',\n",
       " 'understand',\n",
       " 'regulations',\n",
       " 'bogged',\n",
       " 'exists',\n",
       " 'truest',\n",
       " 'volatile',\n",
       " 'purchasing',\n",
       " 'atheist',\n",
       " 'characters',\n",
       " 'slight',\n",
       " 'fisher',\n",
       " 'suffer',\n",
       " 'george',\n",
       " 'directed',\n",
       " 'slow',\n",
       " 'chessmaster',\n",
       " 'congratulate',\n",
       " 'dorfman',\n",
       " 'humanitarian',\n",
       " 'disregarded',\n",
       " 'relation',\n",
       " 'assaults',\n",
       " 'groups',\n",
       " 'asian',\n",
       " 'credo',\n",
       " 'defeated',\n",
       " 'innercities',\n",
       " 'seasoned',\n",
       " 'electrics',\n",
       " 'kimmel',\n",
       " 'bipartisan',\n",
       " 'fouryear',\n",
       " 'hurtful',\n",
       " 'harm',\n",
       " 'maintenance',\n",
       " 'entitlement',\n",
       " 'cuozzo',\n",
       " 'amounted',\n",
       " 'critical',\n",
       " 'erie',\n",
       " 'bigtime',\n",
       " 'moving',\n",
       " 'desire',\n",
       " 'load',\n",
       " 'mcarthur',\n",
       " 'bookies',\n",
       " 'hosts',\n",
       " 'dissipated',\n",
       " 'torched',\n",
       " 'better',\n",
       " 'johns',\n",
       " 'broken',\n",
       " 'violently',\n",
       " 'deductions',\n",
       " 'encouraging',\n",
       " 'k',\n",
       " 'decency',\n",
       " 'nazism',\n",
       " 'government',\n",
       " 'credibility',\n",
       " 'july',\n",
       " 'jersey',\n",
       " 'fashion',\n",
       " 'vat',\n",
       " 'sincerely',\n",
       " 'samaritan',\n",
       " 'relations',\n",
       " 'restoring',\n",
       " 'shockingly',\n",
       " 'profiling',\n",
       " 'taxpayer',\n",
       " 'sheriff',\n",
       " 'invent',\n",
       " 'marcos',\n",
       " 'beheaded',\n",
       " 'dashed',\n",
       " 'designated',\n",
       " 'honestly',\n",
       " 'cetera',\n",
       " 'debra',\n",
       " 'framework',\n",
       " 'joni',\n",
       " 'export',\n",
       " 'smears',\n",
       " 'excellence',\n",
       " 'colorado',\n",
       " 'script',\n",
       " 'greta',\n",
       " 'taxpayers',\n",
       " 'cubanamerican',\n",
       " 'frozen',\n",
       " 'disservice',\n",
       " 'bernie',\n",
       " 'lg',\n",
       " 'heck',\n",
       " 'directly',\n",
       " 'property',\n",
       " 'gold',\n",
       " 'share',\n",
       " 'impeachment',\n",
       " 'panicking',\n",
       " 'fundamentalist',\n",
       " 'barnett',\n",
       " 'jack',\n",
       " 'havent',\n",
       " 'relatives',\n",
       " 'payed',\n",
       " 'reimbursed',\n",
       " 'wasted',\n",
       " 'lois',\n",
       " 'inkind',\n",
       " 'safely',\n",
       " 'compensated',\n",
       " 'dream',\n",
       " 'selfinterest',\n",
       " 'philippines',\n",
       " 'mixed',\n",
       " 'hijackers',\n",
       " 'taste',\n",
       " 'bodyguards',\n",
       " 'tortured',\n",
       " 'waterboarding',\n",
       " 'knowledgeable',\n",
       " 'games',\n",
       " 'manufactory',\n",
       " 'five',\n",
       " 'abatement',\n",
       " 'bleached',\n",
       " 'sarcastic',\n",
       " 'upi',\n",
       " 'island',\n",
       " 'individuals',\n",
       " 'profited',\n",
       " 'completely',\n",
       " 'conservatives',\n",
       " 'councils',\n",
       " 'circuited',\n",
       " 'nomination',\n",
       " 'canada',\n",
       " 'still',\n",
       " 'informing',\n",
       " 'pretzel',\n",
       " 'guests',\n",
       " 'jetfighters',\n",
       " 'stole',\n",
       " 'sight',\n",
       " 'offhand',\n",
       " 'contingencies',\n",
       " 'connect',\n",
       " 'mary',\n",
       " 'ignorant',\n",
       " 'happened',\n",
       " 'one',\n",
       " 'warns',\n",
       " 'ubs',\n",
       " 'love',\n",
       " 'dismal',\n",
       " 'reviews',\n",
       " 'handed',\n",
       " 'despite',\n",
       " 'forcefully',\n",
       " 'guys',\n",
       " 'violent',\n",
       " 'upgrade',\n",
       " 'hed',\n",
       " 'crew',\n",
       " 'crumble',\n",
       " 'pictures',\n",
       " 'sailing',\n",
       " 'respond',\n",
       " 'difficulty',\n",
       " 'determine',\n",
       " 'fans',\n",
       " 'fourfour',\n",
       " 'missiles',\n",
       " 'bid',\n",
       " 'panama',\n",
       " 'stand',\n",
       " 'machine',\n",
       " 'east',\n",
       " 'birthday',\n",
       " 'accurate',\n",
       " 'qatar',\n",
       " 'fees',\n",
       " 'electionchanging',\n",
       " 'remorse',\n",
       " 'greensboro',\n",
       " 'fraternal',\n",
       " 'accepted',\n",
       " 'handinhand',\n",
       " 'recruits',\n",
       " 'void',\n",
       " 'unbroken',\n",
       " 'ran',\n",
       " 'exceeding',\n",
       " 'defenseless',\n",
       " 'aquifer',\n",
       " 'kudlow',\n",
       " 'perhaps',\n",
       " 'fantastic',\n",
       " 'explains',\n",
       " 'know',\n",
       " 'sergeant',\n",
       " 'bad',\n",
       " 'paytoplay',\n",
       " 'racism',\n",
       " 'microphone',\n",
       " 'endorsement',\n",
       " 'organization',\n",
       " 'critics',\n",
       " 'hypocrite',\n",
       " 'debt',\n",
       " 'alien',\n",
       " 'skeptical',\n",
       " 'e',\n",
       " 'sensors',\n",
       " 'riley',\n",
       " 'disasters',\n",
       " 'output',\n",
       " 'landslide',\n",
       " 'placed',\n",
       " 'held',\n",
       " 'sum',\n",
       " 'crafted',\n",
       " 'tolerance',\n",
       " 'alone',\n",
       " 'employed',\n",
       " 'rico',\n",
       " 'reducing',\n",
       " 'solved',\n",
       " 'demand',\n",
       " 'hillarys',\n",
       " 'retiring',\n",
       " 'cooperating',\n",
       " 'acceptances',\n",
       " 'energy',\n",
       " 'pain',\n",
       " 'force',\n",
       " 'hebdo',\n",
       " 'vocational',\n",
       " 'problem',\n",
       " 'succeed',\n",
       " 'putting',\n",
       " 'conferences',\n",
       " 'injury',\n",
       " 'nine',\n",
       " ...}"
      ]
     },
     "execution_count": 102,
     "metadata": {},
     "output_type": "execute_result"
    }
   ],
   "source": [
    "#unique words\n",
    "words_only = [w for w in clean_trump if w.isalpha()]\n",
    "unique = set([w.lower() for w in words_only])\n",
    "word_count = len(unique)\n",
    "unique"
   ]
  },
  {
   "cell_type": "code",
   "execution_count": 111,
   "metadata": {
    "collapsed": true
   },
   "outputs": [],
   "source": [
    "fdist = FreqDist(clean_trump)\n",
    "words = [(w, fdist[w]) for w in fdist.keys() if len(w) > 10 and fdist[w] > 10]"
   ]
  },
  {
   "cell_type": "markdown",
   "metadata": {},
   "source": [
    "**Number of times he said bigly?** 4"
   ]
  },
  {
   "cell_type": "code",
   "execution_count": 117,
   "metadata": {
    "collapsed": false
   },
   "outputs": [
    {
     "data": {
      "text/plain": [
       "4"
      ]
     },
     "execution_count": 117,
     "metadata": {},
     "output_type": "execute_result"
    }
   ],
   "source": [
    "biglyfreq = FreqDist(clean_trump_text)\n",
    "biglyfreq['bigly'] # 4"
   ]
  },
  {
   "cell_type": "code",
   "execution_count": 192,
   "metadata": {
    "collapsed": false
   },
   "outputs": [
    {
     "data": {
      "text/plain": [
       "19"
      ]
     },
     "execution_count": 192,
     "metadata": {},
     "output_type": "execute_result"
    }
   ],
   "source": [
    "TrumpFreqDist_nf['huge']"
   ]
  },
  {
   "cell_type": "code",
   "execution_count": 193,
   "metadata": {
    "collapsed": false
   },
   "outputs": [
    {
     "data": {
      "text/plain": [
       "568"
      ]
     },
     "execution_count": 193,
     "metadata": {},
     "output_type": "execute_result"
    }
   ],
   "source": [
    "TrumpFreqDist_nf['big']"
   ]
  },
  {
   "cell_type": "code",
   "execution_count": 195,
   "metadata": {
    "collapsed": false
   },
   "outputs": [
    {
     "data": {
      "text/plain": [
       "627"
      ]
     },
     "execution_count": 195,
     "metadata": {},
     "output_type": "execute_result"
    }
   ],
   "source": [
    "TrumpFreqDist_nf['really']"
   ]
  },
  {
   "cell_type": "markdown",
   "metadata": {},
   "source": [
    "## Lexical Diversity"
   ]
  },
  {
   "cell_type": "code",
   "execution_count": 200,
   "metadata": {
    "collapsed": true
   },
   "outputs": [],
   "source": [
    "#lexical diversity function\n",
    "def lexical_diversity(text): \n",
    "    return len(set(text)) / len(text)\n"
   ]
  },
  {
   "cell_type": "code",
   "execution_count": 204,
   "metadata": {
    "collapsed": false
   },
   "outputs": [
    {
     "data": {
      "text/plain": [
       "0.041923533934437686"
      ]
     },
     "execution_count": 204,
     "metadata": {},
     "output_type": "execute_result"
    }
   ],
   "source": [
    "trumpLE = lexical_diversity(clean_trump_text)\n",
    "trumpLE"
   ]
  },
  {
   "cell_type": "markdown",
   "metadata": {},
   "source": [
    "> ## Obama speech comparison"
   ]
  },
  {
   "cell_type": "markdown",
   "metadata": {},
   "source": [
    "**First, clean the text**"
   ]
  },
  {
   "cell_type": "code",
   "execution_count": null,
   "metadata": {
    "collapsed": false
   },
   "outputs": [],
   "source": [
    "obama_corpus = nltk.corpus.PlaintextCorpusReader('Corpus-of-Presidential-Speeches/','obama.*.txt')\n",
    "\n",
    "#check to make sure that they are loaded in. There are 48 files, so it worked.\n",
    "len(obama_corpus.fileids())\n",
    "\n",
    "#Convert texts into appropriate types\n",
    "obama_raw = obama_corpus.raw()\n",
    "obama_words = obama_corpus.words()\n",
    "obama_text = nltk.Text(obama_words)\n",
    "\n",
    "\n",
    "clean_obama = clean_up_data(obama_raw)\n",
    "clean_obama_text = nltk.Text(clean_obama)\n"
   ]
  },
  {
   "cell_type": "code",
   "execution_count": 238,
   "metadata": {
    "collapsed": false
   },
   "outputs": [
    {
     "name": "stdout",
     "output_type": "stream",
     "text": [
      "0.10519425161368895\n"
     ]
    }
   ],
   "source": [
    "ObamaLE = lexical_diversity(clean_obama_text)\n",
    "print(ObamaLE)"
   ]
  },
  {
   "cell_type": "markdown",
   "metadata": {},
   "source": [
    "## Obama vs. Trump\n",
    "**Lexical Diversity:**\n",
    "    \n",
    "    OBAMA: 0.1051\n",
    "    TRUMP: 0.0419"
   ]
  },
  {
   "cell_type": "markdown",
   "metadata": {},
   "source": [
    "# Corpus Citations##\n",
    "\n",
    "Brown, D. W. (2017) Clinton-Trump Corpus. Retrieved from http://www.thegrammarlab.com\n",
    "\n",
    "Brown, D. W. (2016) Corpus of Presidential Speeches. Retrieved from http://www.thegrammarlab.com\n"
   ]
  }
 ],
 "metadata": {
  "kernelspec": {
   "display_name": "Python 3",
   "language": "python",
   "name": "python3"
  },
  "language_info": {
   "codemirror_mode": {
    "name": "ipython",
    "version": 3
   },
   "file_extension": ".py",
   "mimetype": "text/x-python",
   "name": "python",
   "nbconvert_exporter": "python",
   "pygments_lexer": "ipython3",
   "version": "3.6.0"
  }
 },
 "nbformat": 4,
 "nbformat_minor": 2
}
